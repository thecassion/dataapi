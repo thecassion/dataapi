{
 "cells": [
  {
   "cell_type": "code",
   "execution_count": 5,
   "metadata": {},
   "outputs": [],
   "source": [
    "from itertools import groupby\n",
    "from operator import itemgetter\n",
    "\n",
    "def aggregate_cases_by_commune(cases):\n",
    "    # Sort the cases by commune\n",
    "    sorted_cases = sorted(cases, key=itemgetter('commune'))\n",
    "\n",
    "    # Group the sorted cases by commune\n",
    "    grouped_cases = groupby(sorted_cases, key=itemgetter('commune'))\n",
    "\n",
    "    aggregated_results = []\n",
    "    for commune, group in grouped_cases:\n",
    "        commune_cases = list(group)\n",
    "        \n",
    "        # Count the number of cases in the commune\n",
    "        case_count = len(commune_cases)\n",
    "\n",
    "        # Aggregate other keys as required\n",
    "        # Example: Aggregate gender counts\n",
    "        gender_counts = {'female': 0, 'male': 0}\n",
    "        unknown_gender_counts = {'unknown_gender': 0}\n",
    "        female_age_category = {'f_under_1':0}\n",
    "        male_age_category = {'m_under_1':0}\n",
    "        for case in commune_cases:\n",
    "            if case['sexe'] == 'female':\n",
    "                gender_counts['female'] += 1\n",
    "            elif case['sexe'] == 'male':\n",
    "                gender_counts['male'] += 1\n",
    "            else:\n",
    "                unknown_gender_counts['unknown_gender'] +=1\n",
    "        \n",
    "        for case in commune_cases:\n",
    "            pass #TODO do it later\n",
    "        \n",
    "        # Create the aggregated result for the commune\n",
    "        aggregated_result = {\n",
    "            'commune': commune,\n",
    "            'total': case_count,\n",
    "            'male': gender_counts['male'],\n",
    "            'female': gender_counts['female'],\n",
    "            'unknown_gender': unknown_gender_counts['unknown_gender'],\n",
    "            # Add other keys to aggregate as needed\n",
    "        }\n",
    "\n",
    "\n",
    "        aggregated_results.append(aggregated_result)\n",
    "\n",
    "    return aggregated_results"
   ]
  },
  {
   "cell_type": "code",
   "execution_count": null,
   "metadata": {},
   "outputs": [],
   "source": [
    "import json\n",
    "\n",
    "with open('data.json') as user_file:\n",
    "  file_contents = user_file.read()\n",
    "  \n",
    "print(file_contents)\n",
    "\n",
    "parsed_json = json.loads(file_contents)\n"
   ]
  },
  {
   "cell_type": "code",
   "execution_count": 6,
   "metadata": {},
   "outputs": [
    {
     "data": {
      "text/plain": [
       "[{'commune': 'Delmas',\n",
       "  'total': 26,\n",
       "  'gender_counts': {'female': 14, 'male': 12},\n",
       "  'unknown_gender_counts': {'unknown_gender': 0}},\n",
       " {'commune': 'Kenscoff',\n",
       "  'total': 1,\n",
       "  'gender_counts': {'female': 1, 'male': 0},\n",
       "  'unknown_gender_counts': {'unknown_gender': 0}},\n",
       " {'commune': 'Port-au-Prince',\n",
       "  'total': 2,\n",
       "  'gender_counts': {'female': 2, 'male': 0},\n",
       "  'unknown_gender_counts': {'unknown_gender': 0}},\n",
       " {'commune': 'Pétionville',\n",
       "  'total': 3,\n",
       "  'gender_counts': {'female': 2, 'male': 1},\n",
       "  'unknown_gender_counts': {'unknown_gender': 0}},\n",
       " {'commune': 'Tabarre',\n",
       "  'total': 2,\n",
       "  'gender_counts': {'female': 1, 'male': 1},\n",
       "  'unknown_gender_counts': {'unknown_gender': 0}}]"
      ]
     },
     "execution_count": 6,
     "metadata": {},
     "output_type": "execute_result"
    }
   ],
   "source": [
    "aggregate_cases_by_commune(parsed_json)"
   ]
  },
  {
   "cell_type": "code",
   "execution_count": null,
   "metadata": {},
   "outputs": [],
   "source": []
  }
 ],
 "metadata": {
  "kernelspec": {
   "display_name": "venv",
   "language": "python",
   "name": "python3"
  },
  "language_info": {
   "codemirror_mode": {
    "name": "ipython",
    "version": 3
   },
   "file_extension": ".py",
   "mimetype": "text/x-python",
   "name": "python",
   "nbconvert_exporter": "python",
   "pygments_lexer": "ipython3",
   "version": "3.11.2"
  },
  "orig_nbformat": 4
 },
 "nbformat": 4,
 "nbformat_minor": 2
}
