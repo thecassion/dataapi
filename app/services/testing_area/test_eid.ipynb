{
 "cells": [
  {
   "cell_type": "code",
   "execution_count": 1,
   "metadata": {},
   "outputs": [],
   "source": [
    "import pymysql\n",
    "from sqlalchemy import create_engine, text\n",
    "from pandas import read_sql_query\n",
    "from dateutil.relativedelta import relativedelta\n",
    "\n",
    "\n",
    "from pydantic import (\n",
    "    BaseSettings,\n",
    "    Field\n",
    ")\n",
    "\n",
    "class Settings(BaseSettings):\n",
    "    project_title: str = \"Caris DATA API SERVICE\"\n",
    "    project_description: str = \"REST API service for the datim reports and other relevant data analysis reports\"\n",
    "    project_version: str = \"v0.0.1\"\n",
    "    project_docs_url: str = \"/\"\n",
    "    \n",
    "    DATIM_DESCRIPTION: str = \"Get the datim data for dreams indicator - AGYW_PREV\"\n",
    "    DATIM_SUMMARY: str = \"Get the datim data for dreams indicator - AGYW_PREV\"\n",
    "\n",
    "    DISTRICT_DESCRIPTION: str = \"Get the district data for dreams indicator - AGYW_PREV\"\n",
    "    DISTRICT_SUMMARY: str = \"Get the district data for dreams indicator - AGYW_PREV\"\n",
    "    \n",
    "    \n",
    "    mysql_username: str = Field(...,env='MYSQL_USERNAME')\n",
    "    mysql_password: str = Field(...,env='MYSQL_PASSWORD')\n",
    "    mysql_host: str = Field(...,env='MYSQL_HOST')\n",
    "    mysql_port: int = Field(...,env='MYSQL_PORT')\n",
    "    mysql_database: str = Field(...,env='MYSQL_DATABASE')\n",
    "    \n",
    "    commcare_username: str = Field(...,env='COMMCARE_USERNAME')\n",
    "    commcare_password: str = Field(...,env='COMMCARE_PASSWORD')\n",
    "    \n",
    "    class Config:\n",
    "        env_prefix = \"\"\n",
    "        case_sensitive = False\n",
    "        env_file = \".env\"\n",
    "        env_file_encoding = \"utf-8\"\n",
    "        \n",
    "        \n",
    "        \n",
    "settings = Settings()"
   ]
  },
  {
   "cell_type": "code",
   "execution_count": 2,
   "metadata": {},
   "outputs": [],
   "source": [
    "EID = '''\n",
    "select Patient_code,Code_mere,if(Code_mere in (select patient_code from patient),'yes','no') as Liaison_mere,left(patient_code,8) as Site_or_lab_code, hospital,Office, if(Network is not null,Network,'Autres') as Network, date_of_birth, gender, start_date as arv_start, if(Office = 'CAP', 'HUJ', lab) as lab, date_blood_taken, date_caris_received_sample, date_lab_received_sample, Result,\n",
    "if(timestampdiff(day,date_of_birth,date_blood_taken)<=61,if(timestampdiff(day,date_of_birth,date_blood_taken)>=0,'0_2',''),if(timestampdiff(day,date_of_birth,date_blood_taken)<=365,if(timestampdiff(day,date_of_birth,date_blood_taken)>61,'2_12',''),'')) as tranche_age\n",
    ",if(arv is not null,'yes','') as on_arv, timestampdiff(day,date_lab_received_sample,now()) as total_jours_Labo, timestampdiff(day,date_blood_taken,pcr_result_date) as from_specimen_to_result, timestampdiff(day,date_blood_taken,date_caris_received_sample) as from_specimen_to_caris,\n",
    "timestampdiff(day,date_caris_received_sample,date_lab_received_sample) as from_caris_to_lab, timestampdiff(day,date_lab_received_sample,pcr_result_date) as from_lab_to_result,\n",
    "\n",
    "if(!(pcr_result_date is null or pcr_result_date ='0000-00-00') and !(date_lab_received_sample is null or date_lab_received_sample ='0000-00-00'),timestampdiff(day,date_lab_received_sample,pcr_result_date) , IF(!(date_lab_received_sample is null or date_lab_received_sample ='0000-00-00'), timestampdiff(day,date_lab_received_sample,now()),\"not_in_lab\")) as days_in_lab,\n",
    "case \n",
    "\twhen if(!(pcr_result_date is null or pcr_result_date ='0000-00-00') and !(date_lab_received_sample is null or date_lab_received_sample ='0000-00-00'),timestampdiff(day,date_lab_received_sample,pcr_result_date) , IF(!(date_lab_received_sample is null or date_lab_received_sample ='0000-00-00'), timestampdiff(day,date_lab_received_sample,now()),\"not_in_lab\"))>15 then 'greater than 15'\n",
    "    when if(!(pcr_result_date is null or pcr_result_date ='0000-00-00') and !(date_lab_received_sample is null or date_lab_received_sample ='0000-00-00'),timestampdiff(day,date_lab_received_sample,pcr_result_date) , IF(!(date_lab_received_sample is null or date_lab_received_sample ='0000-00-00'), timestampdiff(day,date_lab_received_sample,now()),\"not_in_lab\"))<=15 then 'less or equal to 15'\n",
    "    else'not in lab' end as Nbres_jours_Labo\n",
    "   , \n",
    "   #timestampdiff(day,date_caris_received_sample,now()) as Total_jours_Caris,\n",
    "   \n",
    "if(!(date_lab_received_sample is null or date_lab_received_sample ='0000-00-00'),timestampdiff(day,date_caris_received_sample,date_lab_received_sample),timestampdiff(day,date_caris_received_sample,now())) as days_between_caris_lab,\n",
    "case \n",
    "\twhen if(!(date_lab_received_sample is null or date_lab_received_sample ='0000-00-00') ,timestampdiff(day,date_caris_received_sample,date_lab_received_sample),timestampdiff(day,date_caris_received_sample,now())) >5 then 'greater than 5'\n",
    "    when if(!(date_lab_received_sample is null or date_lab_received_sample ='0000-00-00'),timestampdiff(day,date_caris_received_sample,date_lab_received_sample),timestampdiff(day,date_caris_received_sample,now())) <=5 then 'less or equal to 5'\n",
    " end as Nbres_jours_Caris,\n",
    "\n",
    "if(pcr_result=1,if(patient_info is not null,if(is_abandoned=0 and is_dead=0,'no','yes'),''),'') as pos_dead_abandon\n",
    ",death_date\n",
    ",abandoned_date\n",
    ",pcr_result_date,\n",
    "case \n",
    "    when month(date_blood_taken) between 10 and 12 then 'Q1'\n",
    "    when month(date_blood_taken) between 1 and 3 then 'Q2'\n",
    "    when month(date_blood_taken) between 4 and 6 then 'Q3'\n",
    "    else 'Q4'\n",
    " End as Quarter,  -- month(date_blood_taken)  as month_blood_taken,\n",
    " #year(date_blood_taken) as year_test,\n",
    "if( month(date_blood_taken) between 10 and 12 ,year(date_blood_taken)+1,year(date_blood_taken) ) as Year\n",
    "from(\n",
    "select patient_code,tme.id_patient as id_in_mere ,concat(tme.mother_city_code,'/',tme.mother_hospital_code,'/',tme.mother_code) as Code_mere, date_of_birth, tracking_infant.id_patient as patient_info, date_blood_taken, pcr_result,arv.id_patient as arv, is_dead, is_abandoned, death_date, abandoned_date, pcr_result_date, date_caris_received_sample, date_lab_received_sample,\n",
    "lookup_testing_specimen_result.name as _result, if(lookup_testing_specimen_result.name=\"\", 'En cours',lookup_testing_specimen_result.name) as Result,lookup_hospital.name as hospital,lookup_network.name as Network,lookup_hospital.office as Office, lookup_testing_gender.name as gender, tracking_regime.start_date, lookup_lab.name as lab from(\n",
    "    select * from testing_specimen t1 where timestampdiff(day,date_of_birth,date_blood_taken)<=365 and date_blood_taken between '2014-10-01' and '2030-12-31'\n",
    "    and date_blood_taken=(select min(date_blood_taken) from testing_specimen t2 where t1.id_patient=t2.id_patient)\n",
    ")test_1\n",
    "left join patient pa on pa.id=test_1.id_patient\n",
    "left join testing_mereenfant tme on pa.id= tme.id_patient\n",
    "left join\n",
    "(select * from(\n",
    "    select id_patient from tracking_followup where on_arv=1\n",
    "    union\n",
    "    select id_patient from tracking_regime where category='regime_infant_treatment'\n",
    "    )o\n",
    ")arv on arv.id_patient=test_1.id_patient\n",
    "left join tracking_infant on tracking_infant.id_patient=test_1.id_patient\n",
    "left join lookup_testing_specimen_result on pcr_result=lookup_testing_specimen_result.id\n",
    "left join lookup_hospital on concat(lookup_hospital.city_code,'/',lookup_hospital.hospital_code)=left(patient_code,8)\n",
    "left join tracking_regime on tracking_regime.id_patient=test_1.id_patient\n",
    "left join lookup_testing_gender on lookup_testing_gender.id=gender\n",
    "left join lookup_lab on lookup_hospital.id_lab=lookup_lab.id\n",
    "left join lookup_network on lookup_hospital.network=lookup_network.id\n",
    "where timestampdiff(day,test_1.date_of_birth,test_1.date_blood_taken)<=365 and test_1.date_blood_taken between '2014-10-01' and '2030-12-31' and linked_to_id_patient=0\n",
    "group by test_1.id_patient) final\n",
    "'''\n",
    "\n",
    "engine = create_engine(\n",
    "    f\"mysql+pymysql://{settings.mysql_username}:{settings.mysql_password}@{settings.mysql_host}/{settings.mysql_database}\")\n",
    "\n",
    "\n",
    "eid = read_sql_query(text(EID), engine.connect(), parse_dates=True)\n",
    "\n",
    "# close the pool of connection\n",
    "engine.dispose()"
   ]
  },
  {
   "cell_type": "code",
   "execution_count": 3,
   "metadata": {},
   "outputs": [
    {
     "data": {
      "text/plain": [
       "Index(['Patient_code', 'Code_mere', 'Liaison_mere', 'Site_or_lab_code',\n",
       "       'hospital', 'Office', 'Network', 'date_of_birth', 'gender', 'arv_start',\n",
       "       'lab', 'date_blood_taken', 'date_caris_received_sample',\n",
       "       'date_lab_received_sample', 'Result', 'tranche_age', 'on_arv',\n",
       "       'total_jours_Labo', 'from_specimen_to_result', 'from_specimen_to_caris',\n",
       "       'from_caris_to_lab', 'from_lab_to_result', 'days_in_lab',\n",
       "       'Nbres_jours_Labo', 'days_between_caris_lab', 'Nbres_jours_Caris',\n",
       "       'pos_dead_abandon', 'death_date', 'abandoned_date', 'pcr_result_date',\n",
       "       'Quarter', 'Year'],\n",
       "      dtype='object')"
      ]
     },
     "execution_count": 3,
     "metadata": {},
     "output_type": "execute_result"
    }
   ],
   "source": [
    "eid.columns"
   ]
  },
  {
   "cell_type": "code",
   "execution_count": 4,
   "metadata": {},
   "outputs": [],
   "source": [
    "eid.rename(columns = {'Site_or_lab_code' : 'CODE LABO'}, inplace = True)\n"
   ]
  },
  {
   "cell_type": "code",
   "execution_count": 5,
   "metadata": {},
   "outputs": [
    {
     "data": {
      "text/plain": [
       "array(['ADN VIH-1 Non-Detècté', 'En cours', 'ADN VIH-1 Detècté',\n",
       "       'Autre DBS', 'Correction a faire'], dtype=object)"
      ]
     },
     "execution_count": 5,
     "metadata": {},
     "output_type": "execute_result"
    }
   ],
   "source": [
    "#eid.tranche_age.unique()\n",
    "eid.Result.unique()"
   ]
  },
  {
   "cell_type": "code",
   "execution_count": 6,
   "metadata": {},
   "outputs": [],
   "source": [
    "eid['calculated_ageDiff'] = eid.apply(lambda eid: relativedelta(eid.date_blood_taken, eid.date_of_birth).months,axis=1)\n",
    "eid['calculated_ageDiff'] = eid['calculated_ageDiff'].abs()"
   ]
  },
  {
   "cell_type": "code",
   "execution_count": 7,
   "metadata": {},
   "outputs": [
    {
     "data": {
      "text/plain": [
       "array([ 1,  6, 10,  0,  8,  7,  5,  9,  2, 11,  4,  3])"
      ]
     },
     "execution_count": 7,
     "metadata": {},
     "output_type": "execute_result"
    }
   ],
   "source": [
    "eid.calculated_ageDiff.unique()"
   ]
  },
  {
   "cell_type": "code",
   "execution_count": 8,
   "metadata": {},
   "outputs": [],
   "source": [
    "eid.loc[(eid.calculated_ageDiff>=0) & (eid.calculated_ageDiff<=2),\"tranche_age\"] = \"0_2\"\n",
    "eid.loc[(eid.calculated_ageDiff>2) & (eid.calculated_ageDiff<=12),\"tranche_age\"] = \"2_12\""
   ]
  },
  {
   "cell_type": "code",
   "execution_count": 9,
   "metadata": {},
   "outputs": [
    {
     "data": {
      "text/plain": [
       "array(['0_2', '2_12'], dtype=object)"
      ]
     },
     "execution_count": 9,
     "metadata": {},
     "output_type": "execute_result"
    }
   ],
   "source": [
    "eid.tranche_age.unique()"
   ]
  },
  {
   "cell_type": "code",
   "execution_count": 10,
   "metadata": {},
   "outputs": [],
   "source": [
    "#----------------------------------------------------------------------------------------------------------------------\n",
    "\n",
    "period_1 = 'Q1'\n",
    "year = 2023\n",
    "start_date = '1er Octobre'\n",
    "\n"
   ]
  },
  {
   "cell_type": "code",
   "execution_count": 11,
   "metadata": {},
   "outputs": [
    {
     "data": {
      "text/plain": [
       "[2015, 2016, 2017, 2018, 2019, 2020, 2021, 2022, 2023]"
      ]
     },
     "execution_count": 11,
     "metadata": {},
     "output_type": "execute_result"
    }
   ],
   "source": [
    "eid.Year.drop_duplicates().sort_values().tolist()\n",
    "#eid.Quarter.drop_duplicates().sort_values().tolist()\n",
    "#eid.Network.drop_duplicates().sort_values().tolist()"
   ]
  },
  {
   "cell_type": "code",
   "execution_count": 12,
   "metadata": {},
   "outputs": [
    {
     "data": {
      "text/html": [
       "<div>\n",
       "<style scoped>\n",
       "    .dataframe tbody tr th:only-of-type {\n",
       "        vertical-align: middle;\n",
       "    }\n",
       "\n",
       "    .dataframe tbody tr th {\n",
       "        vertical-align: top;\n",
       "    }\n",
       "\n",
       "    .dataframe thead th {\n",
       "        text-align: right;\n",
       "    }\n",
       "</style>\n",
       "<table border=\"1\" class=\"dataframe\">\n",
       "  <thead>\n",
       "    <tr style=\"text-align: right;\">\n",
       "      <th></th>\n",
       "      <th>tranche_age</th>\n",
       "      <th>Spécimens prélevés</th>\n",
       "      <th>% Spécimens prélevés</th>\n",
       "      <th>Enfants positifs</th>\n",
       "      <th>Sous ARV</th>\n",
       "      <th>Sans résultat</th>\n",
       "      <th>% Sans résultat</th>\n",
       "    </tr>\n",
       "  </thead>\n",
       "  <tbody>\n",
       "    <tr>\n",
       "      <th>0</th>\n",
       "      <td>0_2</td>\n",
       "      <td>21210</td>\n",
       "      <td>78.0</td>\n",
       "      <td>659</td>\n",
       "      <td>538</td>\n",
       "      <td>802</td>\n",
       "      <td>75.0</td>\n",
       "    </tr>\n",
       "    <tr>\n",
       "      <th>1</th>\n",
       "      <td>2_12</td>\n",
       "      <td>5813</td>\n",
       "      <td>22.0</td>\n",
       "      <td>655</td>\n",
       "      <td>461</td>\n",
       "      <td>273</td>\n",
       "      <td>25.0</td>\n",
       "    </tr>\n",
       "    <tr>\n",
       "      <th>2</th>\n",
       "      <td>Total</td>\n",
       "      <td>27023</td>\n",
       "      <td>100.0</td>\n",
       "      <td>1314</td>\n",
       "      <td>999</td>\n",
       "      <td>1075</td>\n",
       "      <td>100.0</td>\n",
       "    </tr>\n",
       "  </tbody>\n",
       "</table>\n",
       "</div>"
      ],
      "text/plain": [
       "  tranche_age  Spécimens prélevés  % Spécimens prélevés  Enfants positifs   \n",
       "0         0_2               21210                  78.0               659  \\\n",
       "1        2_12                5813                  22.0               655   \n",
       "2       Total               27023                 100.0              1314   \n",
       "\n",
       "   Sous ARV  Sans résultat  % Sans résultat  \n",
       "0       538            802             75.0  \n",
       "1       461            273             25.0  \n",
       "2       999           1075            100.0  "
      ]
     },
     "execution_count": 12,
     "metadata": {},
     "output_type": "execute_result"
    }
   ],
   "source": [
    "def pmtctEID_heiPos_ON_ARV(eid, year=None):\n",
    "    if year == None:\n",
    "        eid_Qi = eid\n",
    "    else:\n",
    "        eid_Qi = eid[(eid['Year'] == year)]\n",
    "\n",
    "\n",
    "    #Nombre de spécimens par tranche d'âge\n",
    "    PT = eid_Qi.pivot_table(values='Patient_code', index = 'tranche_age', aggfunc = len, fill_value = 0, margins = True, margins_name ='Total')\n",
    "    PT.rename(columns = {'Patient_code' : 'Spécimens prélevés'}, inplace = True)\n",
    "\n",
    "    #Pourcentage\n",
    "    PTp = round(PT.div(PT.iloc[-1,:], axis = 1), 2)*100\n",
    "    PTp.rename(columns = {'Spécimens prélevés' : '% Spécimens prélevés'}, inplace = True)\n",
    "\n",
    "    # Nombre de positif\n",
    "    eid_positive = eid_Qi[eid_Qi['Result'] == 'ADN VIH-1 Detècté']\n",
    "    PT2 = eid_positive.pivot_table(values = 'Patient_code', index = 'tranche_age', aggfunc = len, margins = True, margins_name ='Total')\n",
    "    PT2.rename(columns = {'Patient_code' : 'Enfants positifs'}, inplace = True)\n",
    "\n",
    "    #Nombre sous ARV\n",
    "    eid_on_arv = eid_positive[eid_positive['on_arv'] == 'yes']\n",
    "    PT3 = eid_on_arv.pivot_table(values = 'Patient_code', index = 'tranche_age', aggfunc = len, margins = True, margins_name = 'Total')\n",
    "    PT3.rename(columns = {'Patient_code' : 'Sous ARV'}, inplace = True)\n",
    "\n",
    "    #Enfants sans résultat\n",
    "    eid_no_result = eid_Qi[(eid_Qi['Result'] != 'ADN VIH-1 Non-Detècté') & (eid_Qi['Result'] != 'ADN VIH-1 Detècté')]\n",
    "    PT4 = eid_no_result.pivot_table(values = 'Patient_code', index = 'tranche_age', aggfunc = len, margins = True, margins_name = 'Total')\n",
    "    PT4.rename(columns = {'Patient_code' : 'Sans résultat'}, inplace =True)\n",
    "    \n",
    "    PT4p = round(PT4.div(PT4.iloc[-1,:], axis = 1), 2)*100\n",
    "    PT4p.rename(columns = {'Sans résultat' : '% Sans résultat'}, inplace = True)\n",
    "\n",
    "    #Concaténation des données et tableau final\n",
    "    #EID = PT.merge(PTp, on = 'tranche_age', how = 'left').merge(PT2, on = 'tranche_age', how = 'left').merge(PT3, on = 'tranche_age', how = 'left').merge(PT4, on = 'tranche_age', how = 'left')\n",
    "    EID = PT.merge(PTp, on = 'tranche_age', how = 'left').merge(PT2, on = 'tranche_age', how = 'left').merge(PT3, on = 'tranche_age', how = 'left').merge(PT4, on = 'tranche_age', how = 'left').merge(PT4p, on = 'tranche_age', how = 'left')\n",
    "    EID.reset_index(inplace = True)\n",
    "    EID = EID.fillna(0)\n",
    "    return EID\n",
    "\n",
    "\n",
    "\n",
    "#pmtctEID_heiPos_ON_ARV(eid,2023)\n",
    "pmtctEID_heiPos_ON_ARV(eid)"
   ]
  },
  {
   "cell_type": "code",
   "execution_count": 13,
   "metadata": {},
   "outputs": [
    {
     "data": {
      "text/plain": [
       "[{'tranche_age': '0_2',\n",
       "  'Spécimens prélevés': 21210,\n",
       "  '% Spécimens prélevés': 78.0,\n",
       "  'Enfants positifs': 659,\n",
       "  'Sous ARV': 538,\n",
       "  'Sans résultat': 802,\n",
       "  '% Sans résultat': 75.0},\n",
       " {'tranche_age': '2_12',\n",
       "  'Spécimens prélevés': 5813,\n",
       "  '% Spécimens prélevés': 22.0,\n",
       "  'Enfants positifs': 655,\n",
       "  'Sous ARV': 461,\n",
       "  'Sans résultat': 273,\n",
       "  '% Sans résultat': 25.0},\n",
       " {'tranche_age': 'Total',\n",
       "  'Spécimens prélevés': 27023,\n",
       "  '% Spécimens prélevés': 100.0,\n",
       "  'Enfants positifs': 1314,\n",
       "  'Sous ARV': 999,\n",
       "  'Sans résultat': 1075,\n",
       "  '% Sans résultat': 100.0}]"
      ]
     },
     "execution_count": 13,
     "metadata": {},
     "output_type": "execute_result"
    }
   ],
   "source": [
    "table = pmtctEID_heiPos_ON_ARV(eid)\n",
    "\n",
    "table.to_dict('records')\n"
   ]
  },
  {
   "cell_type": "code",
   "execution_count": 14,
   "metadata": {},
   "outputs": [],
   "source": [
    "\n",
    "class Eid():\n",
    "    \n",
    "    @classmethod\n",
    "    def get_filter_title(cls,eid):\n",
    "        year = eid.Year.drop_duplicates().sort_values().tolist()\n",
    "        quarter = eid.Quarter.drop_duplicates().sort_values().tolist()\n",
    "        network = eid.Network.drop_duplicates().sort_values().tolist()\n",
    "        return {\n",
    "            \"year_title\": year,\n",
    "            \"quarter_title\": quarter,\n",
    "            \"network_title\": network\n",
    "        }\n",
    "    \n",
    "    @classmethod\n",
    "    def pmtctEID_heiPos_ON_ARV(cls,eid, year=None,quarter=None, network=None):\n",
    "        if (year is None and quarter is not None and network is not None):\n",
    "            eid_Qi = eid[(eid.Quarter==quarter)&(eid.Network==network)]\n",
    "        elif(quarter is None and year is not None and network is not None):\n",
    "            eid_Qi = eid[(eid.Year==year)&(eid.Network==network)]\n",
    "        elif(network is None and year is not None and quarter is not None):\n",
    "            eid_Qi = eid[(eid.Year==year)&(eid.Quarter==quarter)]\n",
    "        elif(year is not None and quarter is None and network is None):\n",
    "            eid_Qi = eid[(eid.Year==year)]\n",
    "        elif(quarter is not None and year is None and network is None):\n",
    "            eid_Qi = eid[(eid.Quarter==quarter)]\n",
    "        elif(network is not None and year is None and quarter is None):\n",
    "            eid_Qi = eid[(eid.Network==network)]\n",
    "        elif(year is not None and quarter is not None and network is not None):\n",
    "            eid_Qi = eid[(eid.Year==year)&(eid.Quarter==quarter)&(eid.Network==network)]\n",
    "        else:\n",
    "            eid_Qi = eid\n",
    "        \n",
    "        #Nombre de spécimens par tranche d'âge\n",
    "        PT = eid_Qi.pivot_table(values='Patient_code', index = 'tranche_age', aggfunc = len, fill_value = 0, margins = True, margins_name ='Total')\n",
    "        PT.rename(columns = {'Patient_code' : 'Spécimens prélevés'}, inplace = True)\n",
    "\n",
    "        #Pourcentage\n",
    "        PTp = round(PT.div(PT.iloc[-1,:], axis = 1), 2)*100\n",
    "        PTp.rename(columns = {'Spécimens prélevés' : '% Spécimens prélevés'}, inplace = True)\n",
    "\n",
    "        # Nombre de positif\n",
    "        eid_positive = eid_Qi[eid_Qi['Result'] == 'ADN VIH-1 Detècté']\n",
    "        PT2 = eid_positive.pivot_table(values = 'Patient_code', index = 'tranche_age', aggfunc = len, margins = True, margins_name ='Total')\n",
    "        PT2.rename(columns = {'Patient_code' : 'Enfants positifs'}, inplace = True)\n",
    "\n",
    "        #Nombre sous ARV\n",
    "        eid_on_arv = eid_positive[eid_positive['on_arv'] == 'yes']\n",
    "        PT3 = eid_on_arv.pivot_table(values = 'Patient_code', index = 'tranche_age', aggfunc = len, margins = True, margins_name = 'Total')\n",
    "        PT3.rename(columns = {'Patient_code' : 'Sous ARV'}, inplace = True)\n",
    "\n",
    "        #Enfants sans résultat\n",
    "        eid_no_result = eid_Qi[(eid_Qi['Result'] != 'ADN VIH-1 Non-Detècté') & (eid_Qi['Result'] != 'ADN VIH-1 Detècté')]\n",
    "        PT4 = eid_no_result.pivot_table(values = 'Patient_code', index = 'tranche_age', aggfunc = len, margins = True, margins_name = 'Total')\n",
    "        PT4.rename(columns = {'Patient_code' : 'Sans résultat'}, inplace =True)\n",
    "        \n",
    "        PT4p = round(PT4.div(PT4.iloc[-1,:], axis = 1), 2)*100\n",
    "        PT4p.rename(columns = {'Sans résultat' : '% Sans résultat'}, inplace = True)\n",
    "\n",
    "        #Concaténation des données et tableau final\n",
    "        #EID = PT.merge(PTp, on = 'tranche_age', how = 'left').merge(PT2, on = 'tranche_age', how = 'left').merge(PT3, on = 'tranche_age', how = 'left').merge(PT4, on = 'tranche_age', how = 'left')\n",
    "        EID = PT.merge(PTp, on = 'tranche_age', how = 'left').merge(PT2, on = 'tranche_age', how = 'left').merge(PT3, on = 'tranche_age', how = 'left').merge(PT4, on = 'tranche_age', how = 'left').merge(PT4p, on = 'tranche_age', how = 'left')\n",
    "        EID.reset_index(inplace = True)\n",
    "        EID = EID.fillna(0)\n",
    "        return EID \n",
    "\n"
   ]
  },
  {
   "cell_type": "code",
   "execution_count": 15,
   "metadata": {},
   "outputs": [
    {
     "data": {
      "text/html": [
       "<div>\n",
       "<style scoped>\n",
       "    .dataframe tbody tr th:only-of-type {\n",
       "        vertical-align: middle;\n",
       "    }\n",
       "\n",
       "    .dataframe tbody tr th {\n",
       "        vertical-align: top;\n",
       "    }\n",
       "\n",
       "    .dataframe thead th {\n",
       "        text-align: right;\n",
       "    }\n",
       "</style>\n",
       "<table border=\"1\" class=\"dataframe\">\n",
       "  <thead>\n",
       "    <tr style=\"text-align: right;\">\n",
       "      <th></th>\n",
       "      <th>tranche_age</th>\n",
       "      <th>Spécimens prélevés</th>\n",
       "      <th>% Spécimens prélevés</th>\n",
       "      <th>Enfants positifs</th>\n",
       "      <th>Sous ARV</th>\n",
       "      <th>Sans résultat</th>\n",
       "      <th>% Sans résultat</th>\n",
       "    </tr>\n",
       "  </thead>\n",
       "  <tbody>\n",
       "    <tr>\n",
       "      <th>0</th>\n",
       "      <td>0_2</td>\n",
       "      <td>96</td>\n",
       "      <td>83.0</td>\n",
       "      <td>0.0</td>\n",
       "      <td>0.0</td>\n",
       "      <td>26</td>\n",
       "      <td>87.0</td>\n",
       "    </tr>\n",
       "    <tr>\n",
       "      <th>1</th>\n",
       "      <td>2_12</td>\n",
       "      <td>20</td>\n",
       "      <td>17.0</td>\n",
       "      <td>2.0</td>\n",
       "      <td>2.0</td>\n",
       "      <td>4</td>\n",
       "      <td>13.0</td>\n",
       "    </tr>\n",
       "    <tr>\n",
       "      <th>2</th>\n",
       "      <td>Total</td>\n",
       "      <td>116</td>\n",
       "      <td>100.0</td>\n",
       "      <td>2.0</td>\n",
       "      <td>2.0</td>\n",
       "      <td>30</td>\n",
       "      <td>100.0</td>\n",
       "    </tr>\n",
       "  </tbody>\n",
       "</table>\n",
       "</div>"
      ],
      "text/plain": [
       "  tranche_age  Spécimens prélevés  % Spécimens prélevés  Enfants positifs   \n",
       "0         0_2                  96                  83.0               0.0  \\\n",
       "1        2_12                  20                  17.0               2.0   \n",
       "2       Total                 116                 100.0               2.0   \n",
       "\n",
       "   Sous ARV  Sans résultat  % Sans résultat  \n",
       "0       0.0             26             87.0  \n",
       "1       2.0              4             13.0  \n",
       "2       2.0             30            100.0  "
      ]
     },
     "execution_count": 15,
     "metadata": {},
     "output_type": "execute_result"
    }
   ],
   "source": [
    "Eid.pmtctEID_heiPos_ON_ARV(eid,year=2023,quarter='Q2', network= 'CMMB')"
   ]
  },
  {
   "cell_type": "code",
   "execution_count": 16,
   "metadata": {},
   "outputs": [
    {
     "data": {
      "text/plain": [
       "['Autres',\n",
       " 'BRIDGE',\n",
       " 'CDS',\n",
       " 'CMMB',\n",
       " 'FOSREF',\n",
       " 'Fondation Saint-Luc',\n",
       " 'GHESKIO',\n",
       " 'I-TECH',\n",
       " 'ICAP',\n",
       " 'IMA',\n",
       " 'Kore Sante',\n",
       " 'MSPP',\n",
       " 'PIH',\n",
       " 'Santé',\n",
       " 'UGP']"
      ]
     },
     "execution_count": 16,
     "metadata": {},
     "output_type": "execute_result"
    }
   ],
   "source": [
    "Eid.get_filter_title(eid)[\"network_title\"]\n"
   ]
  },
  {
   "cell_type": "code",
   "execution_count": 17,
   "metadata": {},
   "outputs": [
    {
     "data": {
      "text/plain": [
       "['Q1', 'Q2', 'Q3', 'Q4']"
      ]
     },
     "execution_count": 17,
     "metadata": {},
     "output_type": "execute_result"
    }
   ],
   "source": [
    "Eid.get_filter_title(eid)[\"quarter_title\"]\n"
   ]
  },
  {
   "cell_type": "code",
   "execution_count": 18,
   "metadata": {},
   "outputs": [
    {
     "data": {
      "text/plain": [
       "[2015, 2016, 2017, 2018, 2019, 2020, 2021, 2022, 2023]"
      ]
     },
     "execution_count": 18,
     "metadata": {},
     "output_type": "execute_result"
    }
   ],
   "source": [
    "Eid.get_filter_title(eid)[\"year_title\"]"
   ]
  },
  {
   "cell_type": "code",
   "execution_count": 19,
   "metadata": {},
   "outputs": [
    {
     "data": {
      "text/plain": [
       "array(['no', 'yes'], dtype=object)"
      ]
     },
     "execution_count": 19,
     "metadata": {},
     "output_type": "execute_result"
    }
   ],
   "source": [
    "eid.Liaison_mere.unique()"
   ]
  },
  {
   "cell_type": "code",
   "execution_count": 20,
   "metadata": {},
   "outputs": [],
   "source": [
    "\n",
    "class StatusEid():\n",
    "    \n",
    "    @classmethod\n",
    "    def get_filter_title(cls,eid):\n",
    "        year = eid.Year.drop_duplicates().sort_values().tolist()\n",
    "        quarter = eid.Quarter.drop_duplicates().sort_values().tolist()\n",
    "        office = eid.Office.drop_duplicates().sort_values().tolist()\n",
    "        hospital = eid.hospital.drop_duplicates().sort_values().tolist()\n",
    "        result = eid.Result.drop_duplicates().sort_values().tolist()\n",
    "        tranche_age = eid.tranche_age.drop_duplicates().sort_values().tolist()\n",
    "        liaison_mere = eid.Liaison_mere.drop_duplicates().sort_values().tolist()\n",
    "        return {\n",
    "            \"year_title\": year,\n",
    "            \"quarter_title\": quarter,\n",
    "            \"office_title\": office,\n",
    "            \"hospital_title\": hospital,\n",
    "            \"result_title\": result,\n",
    "            \"tranche_age_title\": tranche_age,\n",
    "            \"liaison_mere_title\": liaison_mere\n",
    "        }\n",
    "    \n",
    "    @classmethod\n",
    "    def pcr_status(cls,eid, year=None,office=None, hospital=None):\n",
    "        if (year is None and office is not None and hospital is not None):\n",
    "            eid_Qi = eid[(eid.Office==office)&(eid.hospital==hospital)]\n",
    "        elif(office is None and year is not None and hospital is not None):\n",
    "            eid_Qi = eid[(eid.Year==year)&(eid.hospital==hospital)]\n",
    "        elif(hospital is None and year is not None and office is not None):\n",
    "            eid_Qi = eid[(eid.Year==year)&(eid.Office==office)]\n",
    "        elif(year is not None and office is None and hospital is None):\n",
    "            eid_Qi = eid[(eid.Year==year)]\n",
    "        elif(office is not None and year is None and hospital is None):\n",
    "            eid_Qi = eid[(eid.Office==office)]\n",
    "        elif(hospital is not None and year is None and office is None):\n",
    "            eid_Qi = eid[(eid.hospital==hospital)]\n",
    "        elif(year is not None and office is not None and hospital is not None):\n",
    "            eid_Qi = eid[(eid.Year==year)&(eid.Office==office)&(eid.hospital==hospital)]\n",
    "        else:\n",
    "            eid_Qi = eid\n",
    "        \n",
    "        EID = eid_Qi.pivot_table(\n",
    "            values='Patient_code',\n",
    "            index=[\"Year\", \"Quarter\", \"tranche_age\"],\n",
    "            aggfunc=len,\n",
    "            fill_value = 0, \n",
    "        ).reset_index().rename_axis(axis=1).rename(columns={'Patient_code':\"Total\"})\n",
    "        return EID \n",
    "\n",
    "    @classmethod\n",
    "    def positivity_status(cls,eid, year=None,office=None, hospital=None):\n",
    "        if (year is None and office is not None and hospital is not None):\n",
    "            eid_Qi = eid[(eid.Office==office)&(eid.hospital==hospital)]\n",
    "        elif(office is None and year is not None and hospital is not None):\n",
    "            eid_Qi = eid[(eid.Year==year)&(eid.hospital==hospital)]\n",
    "        elif(hospital is None and year is not None and office is not None):\n",
    "            eid_Qi = eid[(eid.Year==year)&(eid.Office==office)]\n",
    "        elif(year is not None and office is None and hospital is None):\n",
    "            eid_Qi = eid[(eid.Year==year)]\n",
    "        elif(office is not None and year is None and hospital is None):\n",
    "            eid_Qi = eid[(eid.Office==office)]\n",
    "        elif(hospital is not None and year is None and office is None):\n",
    "            eid_Qi = eid[(eid.hospital==hospital)]\n",
    "        elif(year is not None and office is not None and hospital is not None):\n",
    "            eid_Qi = eid[(eid.Year==year)&(eid.Office==office)&(eid.hospital==hospital)]\n",
    "        else:\n",
    "            eid_Qi = eid\n",
    "        \n",
    "        EID = eid_Qi.pivot_table(\n",
    "            values='Patient_code',\n",
    "            index=[\"Year\", \"Quarter\", \"tranche_age\"],\n",
    "            aggfunc=len,\n",
    "            fill_value = 0, \n",
    "        ).reset_index().rename_axis(axis=1).rename(columns={'Patient_code':\"Total\"})\n",
    "        return EID\n",
    "\n",
    "    @classmethod\n",
    "    def liaison_status(cls,eid, year=None,office=None, hospital=None):\n",
    "        if (year is None and office is not None and hospital is not None):\n",
    "            eid_Qi = eid[(eid.Office==office)&(eid.hospital==hospital)]\n",
    "        elif(office is None and year is not None and hospital is not None):\n",
    "            eid_Qi = eid[(eid.Year==year)&(eid.hospital==hospital)]\n",
    "        elif(hospital is None and year is not None and office is not None):\n",
    "            eid_Qi = eid[(eid.Year==year)&(eid.Office==office)]\n",
    "        elif(year is not None and office is None and hospital is None):\n",
    "            eid_Qi = eid[(eid.Year==year)]\n",
    "        elif(office is not None and year is None and hospital is None):\n",
    "            eid_Qi = eid[(eid.Office==office)]\n",
    "        elif(hospital is not None and year is None and office is None):\n",
    "            eid_Qi = eid[(eid.hospital==hospital)]\n",
    "        elif(year is not None and office is not None and hospital is not None):\n",
    "            eid_Qi = eid[(eid.Year==year)&(eid.Office==office)&(eid.hospital==hospital)]\n",
    "        else:\n",
    "            eid_Qi = eid\n",
    "        \n",
    "        EID = eid_Qi.pivot_table(\n",
    "            values='Patient_code',\n",
    "            columns=\"Liaison_mere\",\n",
    "            aggfunc=len,\n",
    "            fill_value = 0,\n",
    "        )\n",
    "        return EID \n",
    "\n"
   ]
  },
  {
   "cell_type": "code",
   "execution_count": 21,
   "metadata": {},
   "outputs": [
    {
     "data": {
      "text/plain": [
       "['no', 'yes']"
      ]
     },
     "execution_count": 21,
     "metadata": {},
     "output_type": "execute_result"
    }
   ],
   "source": [
    "eid.Liaison_mere.unique().tolist()"
   ]
  },
  {
   "cell_type": "code",
   "execution_count": 22,
   "metadata": {},
   "outputs": [
    {
     "data": {
      "text/plain": [
       "['0_2', '2_12']"
      ]
     },
     "execution_count": 22,
     "metadata": {},
     "output_type": "execute_result"
    }
   ],
   "source": [
    "eid.tranche_age.unique().tolist()"
   ]
  },
  {
   "cell_type": "code",
   "execution_count": 23,
   "metadata": {},
   "outputs": [
    {
     "data": {
      "text/plain": [
       "[{'no': 14401, 'yes': 12622}]"
      ]
     },
     "execution_count": 23,
     "metadata": {},
     "output_type": "execute_result"
    }
   ],
   "source": [
    "eid.pivot_table(\n",
    "    values='Patient_code',\n",
    "    columns=\"Liaison_mere\",\n",
    "    aggfunc=len,\n",
    "    fill_value = 0,\n",
    ").to_dict('records')"
   ]
  },
  {
   "cell_type": "code",
   "execution_count": 24,
   "metadata": {},
   "outputs": [
    {
     "data": {
      "text/plain": [
       "Liaison_mere\n",
       "no     14401\n",
       "yes    12622\n",
       "Name: count, dtype: int64"
      ]
     },
     "execution_count": 24,
     "metadata": {},
     "output_type": "execute_result"
    }
   ],
   "source": [
    "eid.Liaison_mere.value_counts()"
   ]
  },
  {
   "cell_type": "code",
   "execution_count": 25,
   "metadata": {},
   "outputs": [],
   "source": [
    "from pandas import DataFrame"
   ]
  },
  {
   "cell_type": "code",
   "execution_count": 26,
   "metadata": {},
   "outputs": [
    {
     "data": {
      "text/plain": [
       "[{'Year': 2015, 'Quarter': 'Q1', 'tranche_age': '0_2', 'Total': 634},\n",
       " {'Year': 2015, 'Quarter': 'Q1', 'tranche_age': '2_12', 'Total': 132},\n",
       " {'Year': 2015, 'Quarter': 'Q2', 'tranche_age': '0_2', 'Total': 546},\n",
       " {'Year': 2015, 'Quarter': 'Q2', 'tranche_age': '2_12', 'Total': 196},\n",
       " {'Year': 2015, 'Quarter': 'Q3', 'tranche_age': '0_2', 'Total': 447},\n",
       " {'Year': 2015, 'Quarter': 'Q3', 'tranche_age': '2_12', 'Total': 136},\n",
       " {'Year': 2015, 'Quarter': 'Q4', 'tranche_age': '0_2', 'Total': 466},\n",
       " {'Year': 2015, 'Quarter': 'Q4', 'tranche_age': '2_12', 'Total': 136},\n",
       " {'Year': 2016, 'Quarter': 'Q1', 'tranche_age': '0_2', 'Total': 648},\n",
       " {'Year': 2016, 'Quarter': 'Q1', 'tranche_age': '2_12', 'Total': 122},\n",
       " {'Year': 2016, 'Quarter': 'Q2', 'tranche_age': '0_2', 'Total': 645},\n",
       " {'Year': 2016, 'Quarter': 'Q2', 'tranche_age': '2_12', 'Total': 184},\n",
       " {'Year': 2016, 'Quarter': 'Q3', 'tranche_age': '0_2', 'Total': 466},\n",
       " {'Year': 2016, 'Quarter': 'Q3', 'tranche_age': '2_12', 'Total': 212},\n",
       " {'Year': 2016, 'Quarter': 'Q4', 'tranche_age': '0_2', 'Total': 423},\n",
       " {'Year': 2016, 'Quarter': 'Q4', 'tranche_age': '2_12', 'Total': 170},\n",
       " {'Year': 2017, 'Quarter': 'Q1', 'tranche_age': '0_2', 'Total': 588},\n",
       " {'Year': 2017, 'Quarter': 'Q1', 'tranche_age': '2_12', 'Total': 105},\n",
       " {'Year': 2017, 'Quarter': 'Q2', 'tranche_age': '0_2', 'Total': 645},\n",
       " {'Year': 2017, 'Quarter': 'Q2', 'tranche_age': '2_12', 'Total': 191},\n",
       " {'Year': 2017, 'Quarter': 'Q3', 'tranche_age': '0_2', 'Total': 589},\n",
       " {'Year': 2017, 'Quarter': 'Q3', 'tranche_age': '2_12', 'Total': 188},\n",
       " {'Year': 2017, 'Quarter': 'Q4', 'tranche_age': '0_2', 'Total': 600},\n",
       " {'Year': 2017, 'Quarter': 'Q4', 'tranche_age': '2_12', 'Total': 168},\n",
       " {'Year': 2018, 'Quarter': 'Q1', 'tranche_age': '0_2', 'Total': 777},\n",
       " {'Year': 2018, 'Quarter': 'Q1', 'tranche_age': '2_12', 'Total': 134},\n",
       " {'Year': 2018, 'Quarter': 'Q2', 'tranche_age': '0_2', 'Total': 742},\n",
       " {'Year': 2018, 'Quarter': 'Q2', 'tranche_age': '2_12', 'Total': 179},\n",
       " {'Year': 2018, 'Quarter': 'Q3', 'tranche_age': '0_2', 'Total': 544},\n",
       " {'Year': 2018, 'Quarter': 'Q3', 'tranche_age': '2_12', 'Total': 174},\n",
       " {'Year': 2018, 'Quarter': 'Q4', 'tranche_age': '0_2', 'Total': 642},\n",
       " {'Year': 2018, 'Quarter': 'Q4', 'tranche_age': '2_12', 'Total': 182},\n",
       " {'Year': 2019, 'Quarter': 'Q1', 'tranche_age': '0_2', 'Total': 778},\n",
       " {'Year': 2019, 'Quarter': 'Q1', 'tranche_age': '2_12', 'Total': 116},\n",
       " {'Year': 2019, 'Quarter': 'Q2', 'tranche_age': '0_2', 'Total': 797},\n",
       " {'Year': 2019, 'Quarter': 'Q2', 'tranche_age': '2_12', 'Total': 177},\n",
       " {'Year': 2019, 'Quarter': 'Q3', 'tranche_age': '0_2', 'Total': 715},\n",
       " {'Year': 2019, 'Quarter': 'Q3', 'tranche_age': '2_12', 'Total': 228},\n",
       " {'Year': 2019, 'Quarter': 'Q4', 'tranche_age': '0_2', 'Total': 660},\n",
       " {'Year': 2019, 'Quarter': 'Q4', 'tranche_age': '2_12', 'Total': 200},\n",
       " {'Year': 2020, 'Quarter': 'Q1', 'tranche_age': '0_2', 'Total': 892},\n",
       " {'Year': 2020, 'Quarter': 'Q1', 'tranche_age': '2_12', 'Total': 209},\n",
       " {'Year': 2020, 'Quarter': 'Q2', 'tranche_age': '0_2', 'Total': 789},\n",
       " {'Year': 2020, 'Quarter': 'Q2', 'tranche_age': '2_12', 'Total': 312},\n",
       " {'Year': 2020, 'Quarter': 'Q3', 'tranche_age': '0_2', 'Total': 570},\n",
       " {'Year': 2020, 'Quarter': 'Q3', 'tranche_age': '2_12', 'Total': 194},\n",
       " {'Year': 2020, 'Quarter': 'Q4', 'tranche_age': '0_2', 'Total': 636},\n",
       " {'Year': 2020, 'Quarter': 'Q4', 'tranche_age': '2_12', 'Total': 259},\n",
       " {'Year': 2021, 'Quarter': 'Q1', 'tranche_age': '0_2', 'Total': 813},\n",
       " {'Year': 2021, 'Quarter': 'Q1', 'tranche_age': '2_12', 'Total': 161},\n",
       " {'Year': 2021, 'Quarter': 'Q2', 'tranche_age': '0_2', 'Total': 717},\n",
       " {'Year': 2021, 'Quarter': 'Q2', 'tranche_age': '2_12', 'Total': 209},\n",
       " {'Year': 2021, 'Quarter': 'Q3', 'tranche_age': '0_2', 'Total': 562},\n",
       " {'Year': 2021, 'Quarter': 'Q3', 'tranche_age': '2_12', 'Total': 181},\n",
       " {'Year': 2021, 'Quarter': 'Q4', 'tranche_age': '0_2', 'Total': 612},\n",
       " {'Year': 2021, 'Quarter': 'Q4', 'tranche_age': '2_12', 'Total': 140},\n",
       " {'Year': 2022, 'Quarter': 'Q1', 'tranche_age': '0_2', 'Total': 733},\n",
       " {'Year': 2022, 'Quarter': 'Q1', 'tranche_age': '2_12', 'Total': 111},\n",
       " {'Year': 2022, 'Quarter': 'Q2', 'tranche_age': '0_2', 'Total': 713},\n",
       " {'Year': 2022, 'Quarter': 'Q2', 'tranche_age': '2_12', 'Total': 206},\n",
       " {'Year': 2022, 'Quarter': 'Q3', 'tranche_age': '0_2', 'Total': 488},\n",
       " {'Year': 2022, 'Quarter': 'Q3', 'tranche_age': '2_12', 'Total': 172},\n",
       " {'Year': 2022, 'Quarter': 'Q4', 'tranche_age': '0_2', 'Total': 348},\n",
       " {'Year': 2022, 'Quarter': 'Q4', 'tranche_age': '2_12', 'Total': 90},\n",
       " {'Year': 2023, 'Quarter': 'Q1', 'tranche_age': '0_2', 'Total': 472},\n",
       " {'Year': 2023, 'Quarter': 'Q1', 'tranche_age': '2_12', 'Total': 94},\n",
       " {'Year': 2023, 'Quarter': 'Q2', 'tranche_age': '0_2', 'Total': 348},\n",
       " {'Year': 2023, 'Quarter': 'Q2', 'tranche_age': '2_12', 'Total': 84},\n",
       " {'Year': 2023, 'Quarter': 'Q3', 'tranche_age': '0_2', 'Total': 145},\n",
       " {'Year': 2023, 'Quarter': 'Q3', 'tranche_age': '2_12', 'Total': 54},\n",
       " {'Year': 2023, 'Quarter': 'Q4', 'tranche_age': '0_2', 'Total': 20},\n",
       " {'Year': 2023, 'Quarter': 'Q4', 'tranche_age': '2_12', 'Total': 7}]"
      ]
     },
     "execution_count": 26,
     "metadata": {},
     "output_type": "execute_result"
    }
   ],
   "source": [
    "eid.pivot_table(\n",
    "    values='Patient_code',\n",
    "    index=[\"Year\", \"Quarter\", \"tranche_age\"],\n",
    "    aggfunc=len,\n",
    "    fill_value = 0, \n",
    ").reset_index().rename_axis(axis=1).rename(columns={'Patient_code':\"Total\"}).to_dict(\"records\")"
   ]
  },
  {
   "cell_type": "code",
   "execution_count": 27,
   "metadata": {},
   "outputs": [
    {
     "data": {
      "text/plain": [
       "array(['CAP', 'PAP', 'GON', 'JER', 'PDP', 'CAY', 'BOM', None],\n",
       "      dtype=object)"
      ]
     },
     "execution_count": 27,
     "metadata": {},
     "output_type": "execute_result"
    }
   ],
   "source": [
    "eid.Office.unique()"
   ]
  },
  {
   "cell_type": "code",
   "execution_count": null,
   "metadata": {},
   "outputs": [],
   "source": []
  }
 ],
 "metadata": {
  "kernelspec": {
   "display_name": "Python 3",
   "language": "python",
   "name": "python3"
  },
  "language_info": {
   "codemirror_mode": {
    "name": "ipython",
    "version": 3
   },
   "file_extension": ".py",
   "mimetype": "text/x-python",
   "name": "python",
   "nbconvert_exporter": "python",
   "pygments_lexer": "ipython3",
   "version": "3.11.2"
  },
  "orig_nbformat": 4
 },
 "nbformat": 4,
 "nbformat_minor": 2
}
